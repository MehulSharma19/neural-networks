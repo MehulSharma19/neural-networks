{
 "cells": [
  {
   "cell_type": "code",
   "execution_count": null,
   "metadata": {},
   "outputs": [],
   "source": [
    "#Importing libraries\n",
    "import numpy as np\n",
    "import time\n"
   ]
  },
  {
   "cell_type": "code",
   "execution_count": null,
   "metadata": {},
   "outputs": [],
   "source": [
    "#Printing the details entered\n",
    "def print_details(x,y,alpha,w,b):\n",
    "   print(\"The inputs are:\")\n",
    "   print(x)\n",
    "   print(\"The associated targets are:\")\n",
    "   print(y)\n",
    "   print(\"The learning rate is: \")\n",
    "   print(alpha)\n",
    "   print(\"The initial weights and bias considered are:\")\n",
    "   print(w)\n",
    "   print(b)"
   ]
  },
  {
   "cell_type": "code",
   "execution_count": null,
   "metadata": {},
   "outputs": [],
   "source": [
    "#Activation Function\n",
    "def activation_function(yin):\n",
    "    if yin>theta:\n",
    "        return 1\n",
    "    else:\n",
    "        return -1"
   ]
  },
  {
   "cell_type": "code",
   "execution_count": null,
   "metadata": {},
   "outputs": [],
   "source": [
    "#Input data\n",
    "def input_data():\n",
    "    n = int(input(\"Enter number of input vectors: \"))\n",
    "\n",
    "    x = []\n",
    "    y = []\n",
    "\n",
    "    for i in range(0,n):\n",
    "        raw_str1 = str(input(\"Enter values for vector \" + str(i+1) + \": \"))\n",
    "        input_vector = raw_str1.split(' ')\n",
    "        #print(input_vector)\n",
    "        ip_list = []\n",
    "        for ele in input_vector:\n",
    "            ip_list.append(float(ele))\n",
    "        np_list = np.array(ip_list, dtype=np.float64)\n",
    "        x.append(np_list)\n",
    "        curr_target = str(input(\"Enter the target for vector \" + str(i+1) + \": \"))\n",
    "        y.append(float(curr_target))\n",
    "\n",
    "    return n,x,y\n"
   ]
  },
  {
   "cell_type": "code",
   "execution_count": null,
   "metadata": {},
   "outputs": [],
   "source": [
    "#Input learning rate and number of epochs\n",
    "def input_alpha_bias():\n",
    "    alpha = float(input(\"Enter the learning rate for the model\"))\n",
    "    no_of_epochs = int(input(\"Enter the number of epochs for which the model should run\"))\n",
    "    theta = float(input(\"Enter the threshold for activation function\"))\n",
    "    return alpha,no_of_epochs,theta"
   ]
  },
  {
   "cell_type": "code",
   "execution_count": null,
   "metadata": {},
   "outputs": [],
   "source": [
    "#Input inital weights and bias\n",
    "def input_weights():\n",
    "    raw_str3 = str(input(\"Enter initial weight vector: \"))\n",
    "    w_list = raw_str3.split(' ')\n",
    "    w = []\n",
    "    for ele in w_list:\n",
    "        w.append(float(ele))\n",
    "    b = float(input(\"Enter the value of bias\"))\n",
    "    return w,b"
   ]
  },
  {
   "cell_type": "code",
   "execution_count": null,
   "metadata": {},
   "outputs": [],
   "source": [
    "def main(inputs_to_x1,inputs_to_x2, target, number_of_inputs, weights,bias):\n",
    "    j = 1\n",
    "    flag = 0\n",
    "    while j<no_of_epochs:\n",
    "        print(\"Epoch: \", str(j))\n",
    "        j = j+1\n",
    "        for k in range(0,number_of_inputs):\n",
    "            yin = inputs_to_x1[k]*weights[0] + inputs_to_x2[k]*weights[0] + bias\n",
    "            y = activation_function(yin)\n",
    "            if y == target[k]:\n",
    "                print(\"The weights are giving correct target for the \",str(k+1),\" input.\")\n",
    "                flag = flag+1\n",
    "            else:\n",
    "                print(\"The weights need to be updated for the \",str(k+1),\" input\")\n",
    "                delta_w1 = inputs_to_x1[k]*target[k]*alpha\n",
    "                delta_w2 = inputs_to_x2[k]*target[k]*alpha\n",
    "                weights[0] = weights[0] + delta_w1\n",
    "                weights[1] = weights[1] + delta_w2\n",
    "                bias = bias + alpha*target[k]\n",
    "        if flag==4:\n",
    "            break\n",
    "        else:\n",
    "            flag = 0\n",
    "    return j,weights,bias"
   ]
  },
  {
   "cell_type": "code",
   "execution_count": null,
   "metadata": {
    "tags": []
   },
   "outputs": [],
   "source": [
    "#Getting inputs\n",
    "number_of_inputs,input_vectors,target = input_data()\n",
    "inputs_to_x1 = []\n",
    "inputs_to_x2 = []\n",
    "for i in range(0,number_of_inputs):\n",
    "    inputs_to_x1.append(input_vectors[i][0])\n",
    "    inputs_to_x2.append(input_vectors[i][1])\n",
    "alpha,no_of_epochs,theta = input_alpha_bias()\n",
    "weights,bias = input_weights()"
   ]
  },
  {
   "cell_type": "code",
   "execution_count": null,
   "metadata": {
    "tags": []
   },
   "outputs": [],
   "source": [
    "#Main\n",
    "print_details(input_vectors,target,alpha,weights,bias)\n",
    "no_of_epochs,weights,bias = main(inputs_to_x1,inputs_to_x2, target, number_of_inputs, weights,bias)\n",
    "\n",
    "print(\"The final weights after \",str(no_of_epochs-1),\", epochs are: \")\n",
    "print(weights)\n",
    "print(bias)\n"
   ]
  }
 ],
 "metadata": {
  "kernelspec": {
   "name": "Python 3.8.6 64-bit",
   "display_name": "Python 3.8.6 64-bit",
   "metadata": {
    "interpreter": {
     "hash": "291ada4285d81b7724775da889f1025824cfcf5691e48ef89418ffd1713b1d97"
    }
   }
  },
  "language_info": {
   "codemirror_mode": {
    "name": "ipython",
    "version": 3
   },
   "file_extension": ".py",
   "mimetype": "text/x-python",
   "name": "python",
   "nbconvert_exporter": "python",
   "pygments_lexer": "ipython3",
   "version": "3.8.6-final"
  }
 },
 "nbformat": 4,
 "nbformat_minor": 2
}