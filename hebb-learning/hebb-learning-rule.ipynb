{
 "cells": [
  {
   "cell_type": "code",
   "execution_count": null,
   "metadata": {},
   "outputs": [],
   "source": [
    "#Importing libraries\n",
    "import numpy as np\n",
    "import time\n"
   ]
  },
  {
   "cell_type": "code",
   "execution_count": null,
   "metadata": {},
   "outputs": [],
   "source": [
    "#Printing the details entered\n",
    "def print_details(x,y,alpha,w,b):\n",
    "   print(\"The inputs are:\")\n",
    "   print(x)\n",
    "   print(\"The associated targets are:\")\n",
    "   print(y)\n",
    "   print(\"The learning rate is: \")\n",
    "   print(alpha)\n",
    "   print(\"The initial weights and bias considered are:\")\n",
    "   print(w)\n",
    "   print(b)"
   ]
  },
  {
   "cell_type": "code",
   "execution_count": null,
   "metadata": {},
   "outputs": [],
   "source": [
    "#Input data\n",
    "def input_data():\n",
    "    n = int(input(\"Enter number of input vectors: \"))\n",
    "\n",
    "    x = []\n",
    "    y = []\n",
    "\n",
    "    for i in range(0,n):\n",
    "        raw_str1 = str(input(\"Enter values for vector \" + str(i+1) + \": \"))\n",
    "        input_vector = raw_str1.split(' ')\n",
    "        #print(input_vector)\n",
    "        ip_list = []\n",
    "        for ele in input_vector:\n",
    "            ip_list.append(float(ele))\n",
    "        np_list = np.array(ip_list, dtype=np.float64)\n",
    "        x.append(np_list)\n",
    "        curr_target = str(input(\"Enter the target for vector \" + str(i+1) + \": \"))\n",
    "        y.append(float(curr_target))\n",
    "\n",
    "    return n,x,y\n"
   ]
  },
  {
   "cell_type": "code",
   "execution_count": null,
   "metadata": {},
   "outputs": [],
   "source": [
    "#Input learning rate and number of epochs\n",
    "def input_alpha_bias():\n",
    "    alpha = float(input(\"Enter the learning rate for the model\"))\n",
    "    no_of_epochs = int(input(\"Enter the number of epochs for which the model should run\"))\n",
    "    return alpha,no_of_epochs"
   ]
  },
  {
   "cell_type": "code",
   "execution_count": null,
   "metadata": {},
   "outputs": [],
   "source": [
    "#Input inital weights and bias\n",
    "def input_weights():\n",
    "    raw_str3 = str(input(\"Enter initial weight vector: \"))\n",
    "    w_list = raw_str3.split(' ')\n",
    "    w = []\n",
    "    for ele in w_list:\n",
    "        w.append(float(ele))\n",
    "    b = float(input(\"Enter the value of bias\"))\n",
    "    return w,b"
   ]
  },
  {
   "cell_type": "code",
   "execution_count": null,
   "metadata": {},
   "outputs": [],
   "source": [
    "#Computing values\n",
    "def compute(x1,x2,y,w,b,no_of_epochs):\n",
    "    for j in range(0,no_of_epochs):\n",
    "            for i in range(0,n):\n",
    "                yin = x1[i]*w[0] + x2[i]*w[1] + b\n",
    "                delta_w1 =alpha*y[i]*x1[i]\n",
    "                delta_w2 = alpha*y[i]*x2[i]\n",
    "                w[0] = w[0] + delta_w1\n",
    "                w[1] = w[1] + delta_w2\n",
    "                b = b + y[i]\n",
    "            print(\"For epoch \",str(j+1),\", the updated weights and bias are: \")\n",
    "            print(w)\n",
    "            print(b)\n",
    "    return w,b"
   ]
  },
  {
   "cell_type": "code",
   "execution_count": null,
   "metadata": {
    "tags": []
   },
   "outputs": [],
   "source": [
    "#Getting inputs\n",
    "n,x,y = input_data()\n",
    "x1 = []\n",
    "x2 = []\n",
    "for i in range(len(x)):\n",
    "    x1.append(x[i][0])\n",
    "    x2.append(x[i][1])\n",
    "alpha,no_of_epochs = input_alpha_bias()\n",
    "w,b = input_weights()"
   ]
  },
  {
   "cell_type": "code",
   "execution_count": null,
   "metadata": {
    "tags": []
   },
   "outputs": [],
   "source": [
    "#Main\n",
    "print_details(x,y,alpha,w,b)\n",
    "\n",
    "w,b = compute(x1,x2,y,w,b,no_of_epochs)\n",
    "\n",
    "print(\"The final weights after \",str(no_of_epochs),\", are: \")\n",
    "print(w)\n",
    "print(b)\n"
   ]
  }
 ],
 "metadata": {
  "kernelspec": {
   "name": "Python 3.8.6 64-bit",
   "display_name": "Python 3.8.6 64-bit",
   "metadata": {
    "interpreter": {
     "hash": "291ada4285d81b7724775da889f1025824cfcf5691e48ef89418ffd1713b1d97"
    }
   }
  },
  "language_info": {
   "codemirror_mode": {
    "name": "ipython",
    "version": 3
   },
   "file_extension": ".py",
   "mimetype": "text/x-python",
   "name": "python",
   "nbconvert_exporter": "python",
   "pygments_lexer": "ipython3",
   "version": "3.8.6-final"
  }
 },
 "nbformat": 4,
 "nbformat_minor": 2
}