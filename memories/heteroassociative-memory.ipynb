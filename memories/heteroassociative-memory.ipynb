{
 "metadata": {
  "language_info": {
   "codemirror_mode": {
    "name": "ipython",
    "version": 3
   },
   "file_extension": ".py",
   "mimetype": "text/x-python",
   "name": "python",
   "nbconvert_exporter": "python",
   "pygments_lexer": "ipython3",
   "version": "3.8.6-final"
  },
  "orig_nbformat": 2,
  "kernelspec": {
   "name": "Python 3.8.6 64-bit",
   "display_name": "Python 3.8.6 64-bit",
   "metadata": {
    "interpreter": {
     "hash": "291ada4285d81b7724775da889f1025824cfcf5691e48ef89418ffd1713b1d97"
    }
   }
  }
 },
 "nbformat": 4,
 "nbformat_minor": 2,
 "cells": [
  {
   "cell_type": "code",
   "execution_count": 11,
   "metadata": {},
   "outputs": [],
   "source": [
    "import math\n",
    "import numpy as np\n",
    "import copy"
   ]
  },
  {
   "cell_type": "code",
   "execution_count": 12,
   "metadata": {},
   "outputs": [],
   "source": [
    "#Input data\n",
    "def input_data():\n",
    "    n = int(input(\"Enter number of input vectors: \"))\n",
    "    s = int(input(\"Enter the number of inputs: \"))\n",
    "    t = int(input(\"Enter the number of targets: \"))\n",
    "    x = []\n",
    "    y = []\n",
    "\n",
    "    for i in range(0,n):\n",
    "        raw_str1 = str(input(\"Enter values for vector \" + str(i+1) + \": \"))\n",
    "        input_vector = raw_str1.split(' ')\n",
    "        ip_list = []\n",
    "        for ele in input_vector:\n",
    "            ip_list.append(float(ele))\n",
    "        np_list1 = np.array(ip_list, dtype=np.float64)\n",
    "        x.append(np_list1)\n",
    "        curr_target = str(input(\"Enter the target for vector \" + str(i+1) + \": \"))\n",
    "        output_vector = curr_target.split(' ')\n",
    "        out_list = []\n",
    "        for ele in output_vector:\n",
    "            out_list.append(float(ele))\n",
    "        np_list2 = np.array(out_list, dtype=np.float64)\n",
    "        y.append(np_list2)\n",
    "\n",
    "    return n,x,y,s,t"
   ]
  },
  {
   "cell_type": "code",
   "execution_count": 13,
   "metadata": {},
   "outputs": [],
   "source": [
    "#transposing a matrix\n",
    "def transpose(A):\n",
    "    return np.transpose(A)"
   ]
  },
  {
   "cell_type": "code",
   "execution_count": 14,
   "metadata": {},
   "outputs": [],
   "source": [
    "#creating the weight matrix\n",
    "def matrix_multiply(A,B):\n",
    "    result = [[sum(a * b for a, b in zip(A_row, B_col)) for B_col in zip(*B)] for A_row in A] \n",
    "    return result"
   ]
  },
  {
   "cell_type": "code",
   "execution_count": 15,
   "metadata": {},
   "outputs": [],
   "source": [
    "def activation_func(x):\n",
    "   ans = []\n",
    "   for j in range (0,number_of_inputs):\n",
    "        for i in range(0,no_input):\n",
    "            if x[j][i]<1:\n",
    "                ans.append(-1.0)\n",
    "            else:\n",
    "                ans.append(1.0)\n",
    "   return ans\n",
    "       "
   ]
  },
  {
   "cell_type": "code",
   "execution_count": 16,
   "metadata": {},
   "outputs": [],
   "source": [
    "#comparing 2 matrices:\n",
    "def compare(x,y):\n",
    "    for i in range(0,len(y)):\n",
    "        if x[i]!=y[i]:\n",
    "            return False\n",
    "    return True"
   ]
  },
  {
   "cell_type": "code",
   "execution_count": 17,
   "metadata": {},
   "outputs": [],
   "source": [
    "#testing the inputs\n",
    "def test(input,target):\n",
    "    for i in range(0,number_of_inputs):\n",
    "        curr_out = matrix_multiply(input,weights)\n",
    "        output = activation_func(curr_out)\n",
    "        ans = compare(output,target[i])\n",
    "        \n",
    "        print(\"The input is giving the output:\")\n",
    "        print(output)\n",
    "        if ans==True:\n",
    "            print(\"The inputs at position\", str(i+1),\"are giving correct output\")\n",
    "        else:\n",
    "            print(\"The inputs at position\", str(i+1),\"are giving wrong output\")"
   ]
  },
  {
   "cell_type": "code",
   "execution_count": 18,
   "metadata": {},
   "outputs": [],
   "source": [
    "#Taking inputs\n",
    "number_of_inputs,inputs, targets, no_input, no_output = input_data()"
   ]
  },
  {
   "cell_type": "code",
   "execution_count": 19,
   "metadata": {},
   "outputs": [
    {
     "output_type": "stream",
     "name": "stdout",
     "text": [
      "The weight matrix of the entered inputs and outputs is:\n[[2.0, -2.0], [-2.0, 2.0], [0.0, 0.0], [0.0, 0.0]]\n"
     ]
    }
   ],
   "source": [
    "#Getting the weight matrix\n",
    "input_transpose = transpose(inputs)\n",
    "weights = matrix_multiply(input_transpose,targets)\n",
    "print(\"The weight matrix of the entered inputs and outputs is:\")\n",
    "print(weights)"
   ]
  }
 ]
}