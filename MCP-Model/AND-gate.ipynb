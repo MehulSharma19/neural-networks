{
 "cells": [
  {
   "cell_type": "code",
   "execution_count": 1,
   "metadata": {},
   "outputs": [],
   "source": [
    "#make prediction with weights\n",
    "def predict(row,weights):\n",
    "    activation = 0.0\n",
    "    for i in range(len(row)-1):\n",
    "        activation += weights[i] * row[i]\n",
    "    return 1.0 if activation >= weights[0]+weights[1] else 0.0\n"
   ]
  },
  {
   "cell_type": "code",
   "execution_count": 2,
   "metadata": {
    "scrolled": true,
    "tags": []
   },
   "outputs": [
    {
     "output_type": "stream",
     "name": "stdout",
     "text": "Current weights being used are: \n[-1, -1]\nExpected=0,Predicted=1\nExpected=0,Predicted=1\nExpected=0,Predicted=1\nExpected=1,Predicted=1\nThe weights are not giving correct output\nCurrent weights being used are: \n[-1, 1]\nExpected=0,Predicted=1\nExpected=0,Predicted=1\nExpected=0,Predicted=0\nExpected=1,Predicted=1\nThe weights are not giving correct output\nCurrent weights being used are: \n[1, -1]\nExpected=0,Predicted=1\nExpected=0,Predicted=0\nExpected=0,Predicted=1\nExpected=1,Predicted=1\nThe weights are not giving correct output\nCurrent weights being used are: \n[1, 1]\nExpected=0,Predicted=0\nExpected=0,Predicted=0\nExpected=0,Predicted=0\nExpected=1,Predicted=1\nThe weights are giving correct output\nThe threshold being used is 2\n"
    }
   ],
   "source": [
    "#test predictions\n",
    "dataset = [[0,0,0],[0,1,0],[1,0,0],[1,1,1]]\n",
    "weight = [[-1,-1],[-1,1],[1,-1],[1,1]]\n",
    "for weights in weight:\n",
    "    print('Current weights being used are: ')\n",
    "    print(weights)\n",
    "    check = 1\n",
    "    count = 0\n",
    "    i=0\n",
    "    for row in dataset:\n",
    "        prediction = predict(row,weights)\n",
    "        print(\"Expected=%d,Predicted=%d\" %(row[-1],prediction))\n",
    "        if(row[-1]==prediction):\n",
    "            count = count +1\n",
    "    \n",
    "    if(count<3):\n",
    "        print(\"The weights are not giving correct output\")\n",
    "        check = 0\n",
    "    if(check==1):\n",
    "        print(\"The weights are giving correct output\")\n",
    "        print(\"The threshold being used is\", weights[0] + weights[1])\n",
    "                "
   ]
  }
 ],
 "metadata": {
  "kernelspec": {
   "name": "Python 3.8.5 32-bit",
   "display_name": "Python 3.8.5 32-bit",
   "metadata": {
    "interpreter": {
     "hash": "4af90f45c7792a747df031fcfb3e75fbadd5ecde1f96328d33556550aaa66aac"
    }
   }
  },
  "language_info": {
   "codemirror_mode": {
    "name": "ipython",
    "version": 3
   },
   "file_extension": ".py",
   "mimetype": "text/x-python",
   "name": "python",
   "nbconvert_exporter": "python",
   "pygments_lexer": "ipython3",
   "version": "3.8.5-final"
  }
 },
 "nbformat": 4,
 "nbformat_minor": 2
}