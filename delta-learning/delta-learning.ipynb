{
 "cells": [
  {
   "cell_type": "code",
   "execution_count": null,
   "metadata": {},
   "outputs": [],
   "source": [
    "import numpy as np\n",
    "import time"
   ]
  },
  {
   "cell_type": "code",
   "execution_count": null,
   "metadata": {},
   "outputs": [],
   "source": [
    "#Printing the details entered\n",
    "def print_details(x,y,alpha,w,b):\n",
    "   print(\"The inputs are:\")\n",
    "   print(x)\n",
    "   print(\"The associated targets are:\")\n",
    "   print(y)\n",
    "   print(\"The learning rate is: \")\n",
    "   print(alpha)\n",
    "   print(\"The initial weights and bias considered are:\")\n",
    "   print(w)\n",
    "   print(b)"
   ]
  },
  {
   "cell_type": "code",
   "execution_count": null,
   "metadata": {},
   "outputs": [],
   "source": [
    "#Input data\n",
    "def input_data():\n",
    "    n = int(input(\"Enter number of input vectors: \"))\n",
    "\n",
    "    x = []\n",
    "    y = []\n",
    "\n",
    "    for i in range(0,n):\n",
    "        raw_str1 = str(input(\"Enter values for vector \" + str(i+1) + \": \"))\n",
    "        input_vector = raw_str1.split(' ')\n",
    "        #print(input_vector)\n",
    "        ip_list = []\n",
    "        for ele in input_vector:\n",
    "            ip_list.append(float(ele))\n",
    "        np_list = np.array(ip_list, dtype=np.float64)\n",
    "        x.append(np_list)\n",
    "        curr_target = str(input(\"Enter the target for vector \" + str(i+1) + \": \"))\n",
    "        y.append(float(curr_target))\n",
    "\n",
    "    return n,x,y"
   ]
  },
  {
   "cell_type": "code",
   "execution_count": null,
   "metadata": {},
   "outputs": [],
   "source": [
    "#Input learning rate and number of epochs\n",
    "def input_alpha_error():\n",
    "    alpha = float(input(\"Enter the learning rate for the model\"))\n",
    "    no_of_epochs = int(input(\"Enter the maximum number of epochs for which the model should run\"))\n",
    "    tolerance_error = float(input(\"Enter the tolerance error for the model\"))\n",
    "    return alpha,no_of_epochs,tolerance_error"
   ]
  },
  {
   "cell_type": "code",
   "execution_count": null,
   "metadata": {},
   "outputs": [],
   "source": [
    "#Input inital weights and bias\n",
    "def input_weights():\n",
    "    raw_str3 = str(input(\"Enter initial weight vector: \"))\n",
    "    w_list = raw_str3.split(' ')\n",
    "    w = []\n",
    "    for ele in w_list:\n",
    "        w.append(float(ele))\n",
    "    b = float(input(\"Enter the value of bias\"))\n",
    "    return w,b"
   ]
  },
  {
   "cell_type": "code",
   "execution_count": null,
   "metadata": {},
   "outputs": [],
   "source": [
    "number_of_inputs, input_vector, target = input_data()      \n",
    "weights, bias = input_weights()\n",
    "alpha, max_epochs, tolerance_error = input_alpha_error()"
   ]
  },
  {
   "cell_type": "code",
   "execution_count": null,
   "metadata": {
    "tags": []
   },
   "outputs": [],
   "source": [
    "print_details(input_vector,target,alpha,weights,bias)\n",
    "total_error= 0.0\n",
    "i = 1\n",
    "flag = 0\n",
    "while(1):\n",
    "    if i>max_epochs:\n",
    "        break\n",
    "    print(\"Epoch: \", str(i))\n",
    "    i = i+1\n",
    "    total_epoch_error= 0.0\n",
    "    for j in range(0,number_of_inputs):\n",
    "        x1 = input_vector[j][0]\n",
    "        x2 = input_vector[j][1]\n",
    "        current_target = target[j]\n",
    "        yin = x1*weights[0] + x2*weights[1] + bias\n",
    "        change = current_target - yin\n",
    "        curr_error = change*change\n",
    "        weights[0] = weights[0] + alpha*x1*change\n",
    "        weights[1] = weights[1] + alpha*x2*change\n",
    "        bias = bias + alpha*change\n",
    "        total_epoch_error = total_epoch_error + curr_error\n",
    "        if total_epoch_error<tolerance_error:\n",
    "            flag = 1\n",
    "            break\n",
    "    print(\"The total error for epoch is: \", str(total_epoch_error))\n",
    "    total_error = total_error+total_epoch_error\n",
    "    if flag == 1:\n",
    "        break\n",
    "    \n",
    "if i<max_epochs:\n",
    "    print(\"The error was reduced to be less than the tolerance error.\")\n",
    "else:\n",
    "    print(\"The model was stopped because it ran for maximum number of epochs entered\")\n",
    "print(\"The final weights are: \")\n",
    "print(weights)\n",
    "print(\"The final bias is: \")\n",
    "print(str(bias))\n",
    "print(\"The total error is: \")\n",
    "print(str(total_error)) "
   ]
  },
  {
   "cell_type": "code",
   "execution_count": null,
   "metadata": {},
   "outputs": [],
   "source": []
  }
 ],
 "metadata": {
  "kernelspec": {
   "name": "Python 3.8.6 64-bit",
   "display_name": "Python 3.8.6 64-bit",
   "metadata": {
    "interpreter": {
     "hash": "291ada4285d81b7724775da889f1025824cfcf5691e48ef89418ffd1713b1d97"
    }
   }
  },
  "language_info": {
   "codemirror_mode": {
    "name": "ipython",
    "version": 3
   },
   "file_extension": ".py",
   "mimetype": "text/x-python",
   "name": "python",
   "nbconvert_exporter": "python",
   "pygments_lexer": "ipython3",
   "version": "3.8.6-final"
  }
 },
 "nbformat": 4,
 "nbformat_minor": 2
}